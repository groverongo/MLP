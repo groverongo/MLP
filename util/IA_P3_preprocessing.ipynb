{
  "nbformat": 4,
  "nbformat_minor": 0,
  "metadata": {
    "colab": {
      "provenance": []
    },
    "kernelspec": {
      "name": "python3",
      "display_name": "Python 3"
    },
    "language_info": {
      "name": "python"
    }
  },
  "cells": [
    {
      "cell_type": "code",
      "execution_count": null,
      "metadata": {
        "id": "PgfT4iVWoRGT"
      },
      "outputs": [],
      "source": [
        "import numpy as np\n",
        "import pandas as pd\n",
        "from google.colab import drive"
      ]
    },
    {
      "cell_type": "code",
      "source": [
        "drive.mount(\"/content/drive\")"
      ],
      "metadata": {
        "colab": {
          "base_uri": "https://localhost:8080/"
        },
        "id": "BeCsw4ebpTBo",
        "outputId": "11b046e6-54b3-4dd8-bb0e-1cf46bb70362"
      },
      "execution_count": null,
      "outputs": [
        {
          "output_type": "stream",
          "name": "stdout",
          "text": [
            "Mounted at /content/drive\n"
          ]
        }
      ]
    },
    {
      "cell_type": "code",
      "source": [
        "!unzip \"/content/drive/MyDrive/IA/Proyecto3/sound_dataset.zip\""
      ],
      "metadata": {
        "id": "Z44hM0W7p33g"
      },
      "execution_count": null,
      "outputs": []
    },
    {
      "cell_type": "code",
      "source": [
        "data_path = \"./sound_dataset/\""
      ],
      "metadata": {
        "id": "9k4bwSs6pwuR"
      },
      "execution_count": null,
      "outputs": []
    },
    {
      "cell_type": "code",
      "source": [
        "import os\n",
        "from os import path\n",
        "import librosa"
      ],
      "metadata": {
        "id": "ix4xqMjzqR4p"
      },
      "execution_count": null,
      "outputs": []
    },
    {
      "cell_type": "code",
      "source": [
        "dataset = []\n",
        "labels = []\n",
        "for folder in os.listdir(data_path):\n",
        "  for actor in os.listdir(path.join(data_path, folder)):\n",
        "    for file in os.listdir(path.join(data_path, folder, actor)):\n",
        "      file_path = path.join(data_path, folder, actor, file)\n",
        "      y, sr = librosa.load(file_path)\n",
        "      vec = librosa.feature.mfcc(y=y, sr=sr, n_mfcc=128)\n",
        "      dataset.append(np.mean(vec, axis=1))\n",
        "      labels.append(actor)"
      ],
      "metadata": {
        "id": "PGjuVAcErAhS"
      },
      "execution_count": null,
      "outputs": []
    },
    {
      "cell_type": "code",
      "source": [
        "csv = pd.DataFrame(dataset)\n",
        "csv[\"label\"] = labels"
      ],
      "metadata": {
        "id": "qjJMtqQQtt5w"
      },
      "execution_count": null,
      "outputs": []
    },
    {
      "cell_type": "code",
      "source": [
        "csv.to_csv(\"/content/drive/MyDrive/IA/Proyecto3/vectores.csv\")"
      ],
      "metadata": {
        "id": "9af1OTcFw4GO"
      },
      "execution_count": null,
      "outputs": []
    },
    {
      "cell_type": "code",
      "source": [
        "csv."
      ],
      "metadata": {
        "id": "fS3oB6mSxUc6",
        "outputId": "cd382ff8-7f25-46ed-adcf-4a141d690c01",
        "colab": {
          "base_uri": "https://localhost:8080/"
        }
      },
      "execution_count": null,
      "outputs": [
        {
          "output_type": "execute_result",
          "data": {
            "text/plain": [
              "313341"
            ]
          },
          "metadata": {},
          "execution_count": 35
        }
      ]
    }
  ]
}