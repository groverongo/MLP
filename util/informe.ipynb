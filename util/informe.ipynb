{
 "cells": [
  {
   "cell_type": "code",
   "execution_count": 27,
   "metadata": {},
   "outputs": [
    {
     "name": "stdout",
     "output_type": "stream",
     "text": [
      "C1_100_R\n",
      "C1_100_R_C2_200_R\n",
      "C1_100_R_C2_200_R_C3_50_R\n",
      "C1_100_R_C2_50_R\n",
      "C1_100_R_C2_50_R_C3_200_R\n",
      "C1_100_S\n",
      "C1_100_S_C2_200_S\n",
      "C1_100_S_C2_200_S_C3_50_S\n",
      "C1_100_S_C2_50_S\n",
      "C1_100_S_C2_50_S_C3_200_S\n",
      "C1_100_T\n",
      "C1_100_T_C2_200_T\n",
      "C1_100_T_C2_200_T_C3_50_T\n",
      "C1_100_T_C2_50_T\n",
      "C1_100_T_C2_50_T_C3_200_T\n",
      "C1_200_R\n",
      "C1_200_R_C2_100_R\n",
      "C1_200_R_C2_100_R_C3_50_R\n",
      "C1_200_R_C2_50_R\n",
      "C1_200_R_C2_50_R_C3_100_R\n",
      "C1_200_S\n",
      "C1_200_S_C2_100_S\n",
      "C1_200_S_C2_100_S_C3_50_S\n",
      "C1_200_S_C2_50_S\n",
      "C1_200_S_C2_50_S_C3_100_S\n",
      "C1_200_T\n",
      "C1_200_T_C2_100_T\n",
      "C1_200_T_C2_100_T_C3_50_T\n",
      "C1_200_T_C2_50_T\n",
      "C1_200_T_C2_50_T_C3_100_T\n",
      "C1_50_R\n",
      "C1_50_R_C2_100_R\n",
      "C1_50_R_C2_100_R_C3_200_R\n",
      "C1_50_R_C2_200_R\n",
      "C1_50_R_C2_200_R_C3_100_R\n",
      "C1_50_S\n",
      "C1_50_S_C2_100_S\n",
      "C1_50_S_C2_100_S_C3_200_S\n",
      "C1_50_S_C2_200_S\n",
      "C1_50_S_C2_200_S_C3_100_S\n",
      "C1_50_T\n",
      "C1_50_T_C2_100_T\n",
      "C1_50_T_C2_100_T_C3_200_T\n",
      "C1_50_T_C2_200_T\n",
      "C1_50_T_C2_200_T_C3_100_T\n"
     ]
    }
   ],
   "source": [
    "from glob import glob\n",
    "from os.path import basename\n",
    "rutas = [f'img/perdidas/{basename(i)}' for i in glob(\"../config/graficas/*\")]\n",
    "\n",
    "orden_capa = lambda c, n, f: c[0]+f\"^{{({c[1]})}}\"+f'_{{{n},{f}}}'\n",
    "def notacion_str(cad:str):\n",
    "    cad = cad[:-4]\n",
    "    seps = cad.split('_')\n",
    "    notacion = ''\n",
    "    for n_capa in range(0,len(seps)-1, 3):\n",
    "        notacion += orden_capa(seps[n_capa], seps[n_capa+1], seps[n_capa+2])\n",
    "    return f'${notacion}$'\n",
    "\n",
    "# with open('perdidas.tex', 'w') as f:\n",
    "#     for r in rutas:\n",
    "#         f.write(f\"\"\"\\\\begin{{figure}}[H]\n",
    "#     \\\\centerline{{\\\\includegraphics[width=0.4\\\\textwidth]{{{r}}}}}\n",
    "#     \\\\caption{{{basename(r).replace('_','-')}}}\n",
    "#     \\\\label{{fig:{basename(r)}}}\n",
    "# \\\\end{{figure}}\\n\\n\"\"\")\n",
    "with open('perdidas.tex', 'w') as f:\n",
    "    for r in rutas:\n",
    "        print(basename(r)[:-4])\n",
    "        f.write(f\"\"\"\\\\begin{{figure}}[H]\n",
    "    \\\\centerline{{\\\\includegraphics[width=0.4\\\\textwidth]{{{r}}}}}\n",
    "    \\\\caption{{Perdidas para el entrenamiento y validacion\\\\\\\\ de la combinacion~{notacion_str(basename(r))}}}\n",
    "    \\\\label{{fig:{basename(r)[:-4]}}}\n",
    "\\\\end{{figure}}\\n\\n\"\"\")"
   ]
  },
  {
   "cell_type": "code",
   "execution_count": 16,
   "metadata": {},
   "outputs": [],
   "source": [
    "import pandas as pd\n",
    "\n",
    "df = pd.read_csv(\"../config/metricas.csv\")\n",
    "# display(df)\n",
    "df.to_clipboard(index=None)"
   ]
  }
 ],
 "metadata": {
  "kernelspec": {
   "display_name": "Python 3",
   "language": "python",
   "name": "python3"
  },
  "language_info": {
   "codemirror_mode": {
    "name": "ipython",
    "version": 3
   },
   "file_extension": ".py",
   "mimetype": "text/x-python",
   "name": "python",
   "nbconvert_exporter": "python",
   "pygments_lexer": "ipython3",
   "version": "3.11.4"
  },
  "orig_nbformat": 4
 },
 "nbformat": 4,
 "nbformat_minor": 2
}
