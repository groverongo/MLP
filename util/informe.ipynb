{
 "cells": [
  {
   "cell_type": "code",
   "execution_count": 12,
   "metadata": {},
   "outputs": [],
   "source": [
    "from glob import glob\n",
    "from os.path import basename\n",
    "rutas = [f'img/perdidas/{basename(i)}' for i in glob(\"../config/graficas/*\")]\n",
    "\n",
    "with open('perdidas.tex', 'w') as f:\n",
    "    for r in rutas:\n",
    "        f.write(f\"\"\"\\\\begin{{figure}}[H]\n",
    "    \\\\centerline{{\\\\includegraphics[width=0.4\\\\textwidth]{{{r}}}}}\n",
    "    \\\\caption{{{basename(r)}}}\n",
    "    \\\\label{{fig:{basename(r)}}}\n",
    "\\\\end{{figure}}\\n\\n\"\"\")"
   ]
  }
 ],
 "metadata": {
  "kernelspec": {
   "display_name": "Python 3",
   "language": "python",
   "name": "python3"
  },
  "language_info": {
   "codemirror_mode": {
    "name": "ipython",
    "version": 3
   },
   "file_extension": ".py",
   "mimetype": "text/x-python",
   "name": "python",
   "nbconvert_exporter": "python",
   "pygments_lexer": "ipython3",
   "version": "3.11.4"
  },
  "orig_nbformat": 4
 },
 "nbformat": 4,
 "nbformat_minor": 2
}
