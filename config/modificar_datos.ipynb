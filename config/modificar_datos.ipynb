{
 "cells": [
  {
   "cell_type": "code",
   "execution_count": 1,
   "metadata": {},
   "outputs": [],
   "source": [
    "import pandas as pd"
   ]
  },
  {
   "cell_type": "code",
   "execution_count": 13,
   "metadata": {},
   "outputs": [],
   "source": [
    "df = pd.read_csv(\"../res/datos.csv\", header=None)\n",
    "df = df.sample(frac=1, random_state=42)\n",
    "df_train = df.iloc[:int(len(df)*0.7), :]\n",
    "df_test = df.iloc[int(len(df)*0.7):, :]"
   ]
  },
  {
   "cell_type": "code",
   "execution_count": 22,
   "metadata": {},
   "outputs": [],
   "source": [
    "df_train.to_csv(\"../res/training.csv\", columns=None, index=None)\n",
    "df_test.to_csv(\"../res/testing.csv\", columns=None, index=None)"
   ]
  },
  {
   "cell_type": "code",
   "execution_count": 23,
   "metadata": {},
   "outputs": [
    {
     "name": "stdout",
     "output_type": "stream",
     "text": [
      "True\n",
      "True\n"
     ]
    }
   ],
   "source": [
    "df_train_v = pd.read_csv(\"../res/training.csv\")\n",
    "df_test_v = pd.read_csv(\"../res/testing.csv\")\n",
    "print(df_train.shape == df_train_v.shape)\n",
    "print(df_test.shape == df_test_v.shape)"
   ]
  }
 ],
 "metadata": {
  "kernelspec": {
   "display_name": "Python 3",
   "language": "python",
   "name": "python3"
  },
  "language_info": {
   "codemirror_mode": {
    "name": "ipython",
    "version": 3
   },
   "file_extension": ".py",
   "mimetype": "text/x-python",
   "name": "python",
   "nbconvert_exporter": "python",
   "pygments_lexer": "ipython3",
   "version": "3.11.4"
  },
  "orig_nbformat": 4
 },
 "nbformat": 4,
 "nbformat_minor": 2
}
